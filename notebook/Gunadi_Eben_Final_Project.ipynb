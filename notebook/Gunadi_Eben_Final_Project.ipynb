{
 "cells": [
  {
   "cell_type": "markdown",
   "metadata": {},
   "source": [
    "<center><h1>Gunadi_Eben_Final_Project</h1></center>"
   ]
  },
  {
   "cell_type": "markdown",
   "metadata": {},
   "source": [
    "Name: Eben Gunadi\n",
    "<br>\n",
    "Github Username: egunadi\n",
    "<br>\n",
    "USC ID: 3976793880"
   ]
  },
  {
   "cell_type": "markdown",
   "metadata": {},
   "source": [
    "## 1. Text Classification"
   ]
  },
  {
   "cell_type": "markdown",
   "metadata": {},
   "source": [
    "Import packages"
   ]
  },
  {
   "cell_type": "code",
   "execution_count": 223,
   "metadata": {},
   "outputs": [],
   "source": [
    "import pandas as pd\n",
    "import glob\n",
    "import re\n",
    "import matplotlib.pyplot as plt\n",
    "import seaborn as sns\n",
    "import numpy as np\n",
    "from pathlib import Path\n",
    "from tensorflow.keras.preprocessing.text import Tokenizer\n",
    "from tensorflow.keras.preprocessing.sequence import pad_sequences\n",
    "from tensorflow.keras.models import Sequential\n",
    "from tensorflow.keras.layers import Embedding, Flatten\n"
   ]
  },
  {
   "cell_type": "markdown",
   "metadata": {},
   "source": [
    "### (a) Download the Reviews Data Set"
   ]
  },
  {
   "cell_type": "code",
   "execution_count": 224,
   "metadata": {},
   "outputs": [],
   "source": [
    "# In this problem, we are trying to build a classifier to analyze the sentiment of reviews. You are provided with text data in two folders: one folder involves positive reviews, and one folder involves negative reviews.\n",
    "\n",
    "positive_path = \"../data/pos/\"\n",
    "negative_path = \"../data/neg/\"\n",
    "\n",
    "positive_files = glob.glob(positive_path + \"*.txt\")\n",
    "negative_files = glob.glob(negative_path + \"*.txt\")"
   ]
  },
  {
   "cell_type": "code",
   "execution_count": 225,
   "metadata": {},
   "outputs": [],
   "source": [
    "file_id_pattern = re.compile(\"\\d{3}\")\n",
    "\n",
    "positive_df = pd.DataFrame()\n",
    "\n",
    "for file in positive_files:\n",
    "    file_title = Path(file).stem\n",
    "    file_id = int(file_id_pattern.search(file_title).group(0))\n",
    "\n",
    "    with open(file, \"r\") as f:\n",
    "        text = f.read()\n",
    "        dict = {\"id\": file_id, \"title\": file_title, \"text\": text}\n",
    "\n",
    "        df = pd.DataFrame(dict, index=[0])\n",
    "        positive_df = pd.concat([positive_df, df], ignore_index=True)"
   ]
  },
  {
   "cell_type": "code",
   "execution_count": 226,
   "metadata": {},
   "outputs": [],
   "source": [
    "negative_df = pd.DataFrame()\n",
    "\n",
    "for file in negative_files:\n",
    "    file_title = Path(file).stem\n",
    "    file_id = int(file_id_pattern.search(file_title).group(0))\n",
    "\n",
    "    with open(file, \"r\") as f:\n",
    "        text = f.read()\n",
    "        dict = {\"id\": file_id, \"title\": file_title, \"text\": text}\n",
    "\n",
    "        df = pd.DataFrame(dict, index=[0])\n",
    "        negative_df = pd.concat([negative_df, df], ignore_index=True)"
   ]
  },
  {
   "cell_type": "code",
   "execution_count": 227,
   "metadata": {},
   "outputs": [],
   "source": [
    "positive_df = positive_df.set_index(\"id\")\n",
    "negative_df = negative_df.set_index(\"id\")"
   ]
  },
  {
   "cell_type": "code",
   "execution_count": 228,
   "metadata": {},
   "outputs": [
    {
     "name": "stdout",
     "output_type": "stream",
     "text": [
      "(1000, 2)\n",
      "(1000, 2)\n"
     ]
    }
   ],
   "source": [
    "print(positive_df.shape)\n",
    "print(negative_df.shape)"
   ]
  },
  {
   "cell_type": "code",
   "execution_count": 229,
   "metadata": {},
   "outputs": [
    {
     "data": {
      "text/html": [
       "<div>\n",
       "<style scoped>\n",
       "    .dataframe tbody tr th:only-of-type {\n",
       "        vertical-align: middle;\n",
       "    }\n",
       "\n",
       "    .dataframe tbody tr th {\n",
       "        vertical-align: top;\n",
       "    }\n",
       "\n",
       "    .dataframe thead th {\n",
       "        text-align: right;\n",
       "    }\n",
       "</style>\n",
       "<table border=\"1\" class=\"dataframe\">\n",
       "  <thead>\n",
       "    <tr style=\"text-align: right;\">\n",
       "      <th></th>\n",
       "      <th>title</th>\n",
       "      <th>text</th>\n",
       "    </tr>\n",
       "    <tr>\n",
       "      <th>id</th>\n",
       "      <th></th>\n",
       "      <th></th>\n",
       "    </tr>\n",
       "  </thead>\n",
       "  <tbody>\n",
       "    <tr>\n",
       "      <th>839</th>\n",
       "      <td>cv839_21467</td>\n",
       "      <td>assume nothing . \\nthe phrase is perhaps one o...</td>\n",
       "    </tr>\n",
       "    <tr>\n",
       "      <th>34</th>\n",
       "      <td>cv034_29647</td>\n",
       "      <td>plot : derek zoolander is a male model . \\nhe ...</td>\n",
       "    </tr>\n",
       "    <tr>\n",
       "      <th>908</th>\n",
       "      <td>cv908_16009</td>\n",
       "      <td>i actually am a fan of the original 1961 or so...</td>\n",
       "    </tr>\n",
       "    <tr>\n",
       "      <th>748</th>\n",
       "      <td>cv748_12786</td>\n",
       "      <td>a movie that's been as highly built up as the ...</td>\n",
       "    </tr>\n",
       "    <tr>\n",
       "      <th>253</th>\n",
       "      <td>cv253_10077</td>\n",
       "      <td>\" good will hunting \" is two movies in one : ...</td>\n",
       "    </tr>\n",
       "  </tbody>\n",
       "</table>\n",
       "</div>"
      ],
      "text/plain": [
       "           title                                               text\n",
       "id                                                                 \n",
       "839  cv839_21467  assume nothing . \\nthe phrase is perhaps one o...\n",
       "34   cv034_29647  plot : derek zoolander is a male model . \\nhe ...\n",
       "908  cv908_16009  i actually am a fan of the original 1961 or so...\n",
       "748  cv748_12786  a movie that's been as highly built up as the ...\n",
       "253  cv253_10077   \" good will hunting \" is two movies in one : ..."
      ]
     },
     "execution_count": 229,
     "metadata": {},
     "output_type": "execute_result"
    }
   ],
   "source": [
    "positive_df.head()"
   ]
  },
  {
   "cell_type": "code",
   "execution_count": 230,
   "metadata": {},
   "outputs": [
    {
     "data": {
      "text/html": [
       "<div>\n",
       "<style scoped>\n",
       "    .dataframe tbody tr th:only-of-type {\n",
       "        vertical-align: middle;\n",
       "    }\n",
       "\n",
       "    .dataframe tbody tr th {\n",
       "        vertical-align: top;\n",
       "    }\n",
       "\n",
       "    .dataframe thead th {\n",
       "        text-align: right;\n",
       "    }\n",
       "</style>\n",
       "<table border=\"1\" class=\"dataframe\">\n",
       "  <thead>\n",
       "    <tr style=\"text-align: right;\">\n",
       "      <th></th>\n",
       "      <th>title</th>\n",
       "      <th>text</th>\n",
       "    </tr>\n",
       "    <tr>\n",
       "      <th>id</th>\n",
       "      <th></th>\n",
       "      <th></th>\n",
       "    </tr>\n",
       "  </thead>\n",
       "  <tbody>\n",
       "    <tr>\n",
       "      <th>676</th>\n",
       "      <td>cv676_22202</td>\n",
       "      <td>bad . bad . \\nbad . \\nthat one word seems to p...</td>\n",
       "    </tr>\n",
       "    <tr>\n",
       "      <th>839</th>\n",
       "      <td>cv839_22807</td>\n",
       "      <td>isn't it the ultimate sign of a movie's cinema...</td>\n",
       "    </tr>\n",
       "    <tr>\n",
       "      <th>155</th>\n",
       "      <td>cv155_7845</td>\n",
       "      <td>\" gordy \" is not a movie , it is a 90-minute-...</td>\n",
       "    </tr>\n",
       "    <tr>\n",
       "      <th>465</th>\n",
       "      <td>cv465_23401</td>\n",
       "      <td>disconnect the phone line . \\ndon't accept the...</td>\n",
       "    </tr>\n",
       "    <tr>\n",
       "      <th>398</th>\n",
       "      <td>cv398_17047</td>\n",
       "      <td>when robert forster found himself famous again...</td>\n",
       "    </tr>\n",
       "  </tbody>\n",
       "</table>\n",
       "</div>"
      ],
      "text/plain": [
       "           title                                               text\n",
       "id                                                                 \n",
       "676  cv676_22202  bad . bad . \\nbad . \\nthat one word seems to p...\n",
       "839  cv839_22807  isn't it the ultimate sign of a movie's cinema...\n",
       "155   cv155_7845   \" gordy \" is not a movie , it is a 90-minute-...\n",
       "465  cv465_23401  disconnect the phone line . \\ndon't accept the...\n",
       "398  cv398_17047  when robert forster found himself famous again..."
      ]
     },
     "execution_count": 230,
     "metadata": {},
     "output_type": "execute_result"
    }
   ],
   "source": [
    "negative_df.head()"
   ]
  },
  {
   "cell_type": "markdown",
   "metadata": {},
   "source": [
    "### (b) Data Exploration and Pre-processing"
   ]
  },
  {
   "cell_type": "markdown",
   "metadata": {},
   "source": [
    "#### (i) Binary Encoding"
   ]
  },
  {
   "cell_type": "code",
   "execution_count": 231,
   "metadata": {},
   "outputs": [],
   "source": [
    "# You can use binary encoding for the sentiments , i.e y = 1 for positive sentiments and y = −1 for negative sentiments.\n",
    "# Per Piazza question @562, use 0 and 1 instead since we'll be using a sigmoid activation function in the neural network.\n",
    "\n",
    "positive_df[\"sentiment\"] = 1\n",
    "negative_df[\"sentiment\"] = 0"
   ]
  },
  {
   "cell_type": "code",
   "execution_count": 232,
   "metadata": {},
   "outputs": [
    {
     "data": {
      "text/html": [
       "<div>\n",
       "<style scoped>\n",
       "    .dataframe tbody tr th:only-of-type {\n",
       "        vertical-align: middle;\n",
       "    }\n",
       "\n",
       "    .dataframe tbody tr th {\n",
       "        vertical-align: top;\n",
       "    }\n",
       "\n",
       "    .dataframe thead th {\n",
       "        text-align: right;\n",
       "    }\n",
       "</style>\n",
       "<table border=\"1\" class=\"dataframe\">\n",
       "  <thead>\n",
       "    <tr style=\"text-align: right;\">\n",
       "      <th></th>\n",
       "      <th>title</th>\n",
       "      <th>text</th>\n",
       "      <th>sentiment</th>\n",
       "    </tr>\n",
       "    <tr>\n",
       "      <th>id</th>\n",
       "      <th></th>\n",
       "      <th></th>\n",
       "      <th></th>\n",
       "    </tr>\n",
       "  </thead>\n",
       "  <tbody>\n",
       "    <tr>\n",
       "      <th>839</th>\n",
       "      <td>cv839_21467</td>\n",
       "      <td>assume nothing . \\nthe phrase is perhaps one o...</td>\n",
       "      <td>1</td>\n",
       "    </tr>\n",
       "    <tr>\n",
       "      <th>34</th>\n",
       "      <td>cv034_29647</td>\n",
       "      <td>plot : derek zoolander is a male model . \\nhe ...</td>\n",
       "      <td>1</td>\n",
       "    </tr>\n",
       "    <tr>\n",
       "      <th>908</th>\n",
       "      <td>cv908_16009</td>\n",
       "      <td>i actually am a fan of the original 1961 or so...</td>\n",
       "      <td>1</td>\n",
       "    </tr>\n",
       "    <tr>\n",
       "      <th>748</th>\n",
       "      <td>cv748_12786</td>\n",
       "      <td>a movie that's been as highly built up as the ...</td>\n",
       "      <td>1</td>\n",
       "    </tr>\n",
       "    <tr>\n",
       "      <th>253</th>\n",
       "      <td>cv253_10077</td>\n",
       "      <td>\" good will hunting \" is two movies in one : ...</td>\n",
       "      <td>1</td>\n",
       "    </tr>\n",
       "  </tbody>\n",
       "</table>\n",
       "</div>"
      ],
      "text/plain": [
       "           title                                               text  sentiment\n",
       "id                                                                            \n",
       "839  cv839_21467  assume nothing . \\nthe phrase is perhaps one o...          1\n",
       "34   cv034_29647  plot : derek zoolander is a male model . \\nhe ...          1\n",
       "908  cv908_16009  i actually am a fan of the original 1961 or so...          1\n",
       "748  cv748_12786  a movie that's been as highly built up as the ...          1\n",
       "253  cv253_10077   \" good will hunting \" is two movies in one : ...          1"
      ]
     },
     "execution_count": 232,
     "metadata": {},
     "output_type": "execute_result"
    }
   ],
   "source": [
    "positive_df.head()"
   ]
  },
  {
   "cell_type": "code",
   "execution_count": 233,
   "metadata": {},
   "outputs": [
    {
     "data": {
      "text/html": [
       "<div>\n",
       "<style scoped>\n",
       "    .dataframe tbody tr th:only-of-type {\n",
       "        vertical-align: middle;\n",
       "    }\n",
       "\n",
       "    .dataframe tbody tr th {\n",
       "        vertical-align: top;\n",
       "    }\n",
       "\n",
       "    .dataframe thead th {\n",
       "        text-align: right;\n",
       "    }\n",
       "</style>\n",
       "<table border=\"1\" class=\"dataframe\">\n",
       "  <thead>\n",
       "    <tr style=\"text-align: right;\">\n",
       "      <th></th>\n",
       "      <th>title</th>\n",
       "      <th>text</th>\n",
       "      <th>sentiment</th>\n",
       "    </tr>\n",
       "    <tr>\n",
       "      <th>id</th>\n",
       "      <th></th>\n",
       "      <th></th>\n",
       "      <th></th>\n",
       "    </tr>\n",
       "  </thead>\n",
       "  <tbody>\n",
       "    <tr>\n",
       "      <th>676</th>\n",
       "      <td>cv676_22202</td>\n",
       "      <td>bad . bad . \\nbad . \\nthat one word seems to p...</td>\n",
       "      <td>0</td>\n",
       "    </tr>\n",
       "    <tr>\n",
       "      <th>839</th>\n",
       "      <td>cv839_22807</td>\n",
       "      <td>isn't it the ultimate sign of a movie's cinema...</td>\n",
       "      <td>0</td>\n",
       "    </tr>\n",
       "    <tr>\n",
       "      <th>155</th>\n",
       "      <td>cv155_7845</td>\n",
       "      <td>\" gordy \" is not a movie , it is a 90-minute-...</td>\n",
       "      <td>0</td>\n",
       "    </tr>\n",
       "    <tr>\n",
       "      <th>465</th>\n",
       "      <td>cv465_23401</td>\n",
       "      <td>disconnect the phone line . \\ndon't accept the...</td>\n",
       "      <td>0</td>\n",
       "    </tr>\n",
       "    <tr>\n",
       "      <th>398</th>\n",
       "      <td>cv398_17047</td>\n",
       "      <td>when robert forster found himself famous again...</td>\n",
       "      <td>0</td>\n",
       "    </tr>\n",
       "  </tbody>\n",
       "</table>\n",
       "</div>"
      ],
      "text/plain": [
       "           title                                               text  sentiment\n",
       "id                                                                            \n",
       "676  cv676_22202  bad . bad . \\nbad . \\nthat one word seems to p...          0\n",
       "839  cv839_22807  isn't it the ultimate sign of a movie's cinema...          0\n",
       "155   cv155_7845   \" gordy \" is not a movie , it is a 90-minute-...          0\n",
       "465  cv465_23401  disconnect the phone line . \\ndon't accept the...          0\n",
       "398  cv398_17047  when robert forster found himself famous again...          0"
      ]
     },
     "execution_count": 233,
     "metadata": {},
     "output_type": "execute_result"
    }
   ],
   "source": [
    "negative_df.head()"
   ]
  },
  {
   "cell_type": "markdown",
   "metadata": {},
   "source": [
    "#### (ii) Data Cleaning"
   ]
  },
  {
   "cell_type": "code",
   "execution_count": 234,
   "metadata": {},
   "outputs": [],
   "source": [
    "# The data are pretty clean. Remove the punctuation and numbers from the data.\n",
    "\n",
    "# Remove punctuation and normalize case\n",
    "positive_df[\"text\"] = positive_df[\"text\"].apply(lambda x: re.sub('[^\\w\\s]', '', x).lower())\n",
    "negative_df[\"text\"] = negative_df[\"text\"].apply(lambda x: re.sub('[^\\w\\s]', '', x).lower())\n",
    "\n",
    "# Remove numbers\n",
    "positive_df[\"text\"] = positive_df[\"text\"].apply(lambda x: re.sub('\\d+', '', x))\n",
    "negative_df[\"text\"] = negative_df[\"text\"].apply(lambda x: re.sub('\\d+', '', x))\n",
    "\n",
    "# Also collapse multiple spaces\n",
    "positive_df[\"text\"] = positive_df[\"text\"].apply(lambda x: re.sub('\\s+', ' ', x).strip())\n",
    "negative_df[\"text\"] = negative_df[\"text\"].apply(lambda x: re.sub('\\s+', ' ', x).strip())"
   ]
  },
  {
   "cell_type": "code",
   "execution_count": 235,
   "metadata": {},
   "outputs": [
    {
     "data": {
      "text/html": [
       "<div>\n",
       "<style scoped>\n",
       "    .dataframe tbody tr th:only-of-type {\n",
       "        vertical-align: middle;\n",
       "    }\n",
       "\n",
       "    .dataframe tbody tr th {\n",
       "        vertical-align: top;\n",
       "    }\n",
       "\n",
       "    .dataframe thead th {\n",
       "        text-align: right;\n",
       "    }\n",
       "</style>\n",
       "<table border=\"1\" class=\"dataframe\">\n",
       "  <thead>\n",
       "    <tr style=\"text-align: right;\">\n",
       "      <th></th>\n",
       "      <th>title</th>\n",
       "      <th>text</th>\n",
       "      <th>sentiment</th>\n",
       "    </tr>\n",
       "    <tr>\n",
       "      <th>id</th>\n",
       "      <th></th>\n",
       "      <th></th>\n",
       "      <th></th>\n",
       "    </tr>\n",
       "  </thead>\n",
       "  <tbody>\n",
       "    <tr>\n",
       "      <th>839</th>\n",
       "      <td>cv839_21467</td>\n",
       "      <td>assume nothing the phrase is perhaps one of th...</td>\n",
       "      <td>1</td>\n",
       "    </tr>\n",
       "    <tr>\n",
       "      <th>34</th>\n",
       "      <td>cv034_29647</td>\n",
       "      <td>plot derek zoolander is a male model he is als...</td>\n",
       "      <td>1</td>\n",
       "    </tr>\n",
       "    <tr>\n",
       "      <th>908</th>\n",
       "      <td>cv908_16009</td>\n",
       "      <td>i actually am a fan of the original or so live...</td>\n",
       "      <td>1</td>\n",
       "    </tr>\n",
       "    <tr>\n",
       "      <th>748</th>\n",
       "      <td>cv748_12786</td>\n",
       "      <td>a movie thats been as highly built up as the t...</td>\n",
       "      <td>1</td>\n",
       "    </tr>\n",
       "    <tr>\n",
       "      <th>253</th>\n",
       "      <td>cv253_10077</td>\n",
       "      <td>good will hunting is two movies in one an inde...</td>\n",
       "      <td>1</td>\n",
       "    </tr>\n",
       "  </tbody>\n",
       "</table>\n",
       "</div>"
      ],
      "text/plain": [
       "           title                                               text  sentiment\n",
       "id                                                                            \n",
       "839  cv839_21467  assume nothing the phrase is perhaps one of th...          1\n",
       "34   cv034_29647  plot derek zoolander is a male model he is als...          1\n",
       "908  cv908_16009  i actually am a fan of the original or so live...          1\n",
       "748  cv748_12786  a movie thats been as highly built up as the t...          1\n",
       "253  cv253_10077  good will hunting is two movies in one an inde...          1"
      ]
     },
     "execution_count": 235,
     "metadata": {},
     "output_type": "execute_result"
    }
   ],
   "source": [
    "positive_df.head()"
   ]
  },
  {
   "cell_type": "code",
   "execution_count": 236,
   "metadata": {},
   "outputs": [
    {
     "data": {
      "text/html": [
       "<div>\n",
       "<style scoped>\n",
       "    .dataframe tbody tr th:only-of-type {\n",
       "        vertical-align: middle;\n",
       "    }\n",
       "\n",
       "    .dataframe tbody tr th {\n",
       "        vertical-align: top;\n",
       "    }\n",
       "\n",
       "    .dataframe thead th {\n",
       "        text-align: right;\n",
       "    }\n",
       "</style>\n",
       "<table border=\"1\" class=\"dataframe\">\n",
       "  <thead>\n",
       "    <tr style=\"text-align: right;\">\n",
       "      <th></th>\n",
       "      <th>title</th>\n",
       "      <th>text</th>\n",
       "      <th>sentiment</th>\n",
       "    </tr>\n",
       "    <tr>\n",
       "      <th>id</th>\n",
       "      <th></th>\n",
       "      <th></th>\n",
       "      <th></th>\n",
       "    </tr>\n",
       "  </thead>\n",
       "  <tbody>\n",
       "    <tr>\n",
       "      <th>676</th>\n",
       "      <td>cv676_22202</td>\n",
       "      <td>bad bad bad that one word seems to pretty much...</td>\n",
       "      <td>0</td>\n",
       "    </tr>\n",
       "    <tr>\n",
       "      <th>839</th>\n",
       "      <td>cv839_22807</td>\n",
       "      <td>isnt it the ultimate sign of a movies cinemati...</td>\n",
       "      <td>0</td>\n",
       "    </tr>\n",
       "    <tr>\n",
       "      <th>155</th>\n",
       "      <td>cv155_7845</td>\n",
       "      <td>gordy is not a movie it is a minutelong sesame...</td>\n",
       "      <td>0</td>\n",
       "    </tr>\n",
       "    <tr>\n",
       "      <th>465</th>\n",
       "      <td>cv465_23401</td>\n",
       "      <td>disconnect the phone line dont accept the char...</td>\n",
       "      <td>0</td>\n",
       "    </tr>\n",
       "    <tr>\n",
       "      <th>398</th>\n",
       "      <td>cv398_17047</td>\n",
       "      <td>when robert forster found himself famous again...</td>\n",
       "      <td>0</td>\n",
       "    </tr>\n",
       "  </tbody>\n",
       "</table>\n",
       "</div>"
      ],
      "text/plain": [
       "           title                                               text  sentiment\n",
       "id                                                                            \n",
       "676  cv676_22202  bad bad bad that one word seems to pretty much...          0\n",
       "839  cv839_22807  isnt it the ultimate sign of a movies cinemati...          0\n",
       "155   cv155_7845  gordy is not a movie it is a minutelong sesame...          0\n",
       "465  cv465_23401  disconnect the phone line dont accept the char...          0\n",
       "398  cv398_17047  when robert forster found himself famous again...          0"
      ]
     },
     "execution_count": 236,
     "metadata": {},
     "output_type": "execute_result"
    }
   ],
   "source": [
    "negative_df.head()"
   ]
  },
  {
   "cell_type": "markdown",
   "metadata": {},
   "source": [
    "#### (iii) Separate Test and Train Data"
   ]
  },
  {
   "cell_type": "code",
   "execution_count": 237,
   "metadata": {},
   "outputs": [],
   "source": [
    "# The name of each text file starts with cv number. Use text files 0-699 in each class for training and 700-999 for testing.\n",
    "\n",
    "positive_df = positive_df.sort_index()\n",
    "negative_df = negative_df.sort_index()\n",
    "\n",
    "positive_train = positive_df.loc[0:699]\n",
    "positive_test = positive_df.loc[700:999]\n",
    "\n",
    "negative_train = negative_df.loc[0:699]\n",
    "negative_test = negative_df.loc[700:999]"
   ]
  },
  {
   "cell_type": "code",
   "execution_count": 238,
   "metadata": {},
   "outputs": [
    {
     "name": "stdout",
     "output_type": "stream",
     "text": [
      "(700, 3)\n",
      "(300, 3)\n",
      "(700, 3)\n",
      "(300, 3)\n"
     ]
    }
   ],
   "source": [
    "print(positive_train.shape)\n",
    "print(positive_test.shape)\n",
    "print(negative_train.shape)\n",
    "print(negative_test.shape)"
   ]
  },
  {
   "cell_type": "markdown",
   "metadata": {},
   "source": [
    "#### (iv) Unique Words"
   ]
  },
  {
   "cell_type": "code",
   "execution_count": 239,
   "metadata": {},
   "outputs": [],
   "source": [
    "# Count the number of unique words in the whole dataset (train + test) and print it out.\n",
    "\n",
    "positive_words = [word \n",
    "                  for text in positive_df[\"text\"]\n",
    "                  for word in text.split()]\n",
    "\n",
    "positive_unique_words = set(positive_words)\n",
    "\n",
    "negative_words = [word\n",
    "                  for text in negative_df[\"text\"]\n",
    "                  for word in text.split()]\n",
    "\n",
    "negative_unique_words = set(negative_words)\n",
    "\n",
    "all_unique_words = positive_unique_words.union(negative_unique_words)"
   ]
  },
  {
   "cell_type": "code",
   "execution_count": 240,
   "metadata": {},
   "outputs": [
    {
     "name": "stdout",
     "output_type": "stream",
     "text": [
      "Number of unique words in the whole dataset: 47037\n"
     ]
    }
   ],
   "source": [
    "print(\"Number of unique words in the whole dataset:\", len(all_unique_words))"
   ]
  },
  {
   "cell_type": "markdown",
   "metadata": {},
   "source": [
    "#### (v) Review Length"
   ]
  },
  {
   "cell_type": "code",
   "execution_count": 241,
   "metadata": {},
   "outputs": [],
   "source": [
    "# Calculate the average review length and the standard deviation of review lengths. Report the results.\n",
    "\n",
    "positive_df[\"review_length\"] = positive_df[\"text\"].apply(lambda x: len(x.split()))\n",
    "negative_df[\"review_length\"] = negative_df[\"text\"].apply(lambda x: len(x.split()))\n",
    "\n",
    "all_review_lengths = pd.concat([positive_df[\"review_length\"], negative_df[\"review_length\"]])\n",
    "\n",
    "average_review_length = all_review_lengths.mean()\n",
    "std_review_length = all_review_lengths.std()"
   ]
  },
  {
   "cell_type": "code",
   "execution_count": 242,
   "metadata": {},
   "outputs": [
    {
     "name": "stdout",
     "output_type": "stream",
     "text": [
      "Average review length: 644.3575\n",
      "Standard deviation of review lengths: 285.0513950898525\n"
     ]
    }
   ],
   "source": [
    "print(\"Average review length:\", average_review_length)\n",
    "print(\"Standard deviation of review lengths:\", std_review_length)"
   ]
  },
  {
   "cell_type": "markdown",
   "metadata": {},
   "source": [
    "#### (vi) Histogram"
   ]
  },
  {
   "cell_type": "code",
   "execution_count": 243,
   "metadata": {},
   "outputs": [
    {
     "name": "stderr",
     "output_type": "stream",
     "text": [
      "/Users/ebengunadi/anaconda3/envs/dsci552-final-project/lib/python3.9/site-packages/seaborn/_oldcore.py:1119: FutureWarning: use_inf_as_na option is deprecated and will be removed in a future version. Convert inf values to NaN before operating instead.\n",
      "  with pd.option_context('mode.use_inf_as_na', True):\n",
      "/Users/ebengunadi/anaconda3/envs/dsci552-final-project/lib/python3.9/site-packages/seaborn/_oldcore.py:1119: FutureWarning: use_inf_as_na option is deprecated and will be removed in a future version. Convert inf values to NaN before operating instead.\n",
      "  with pd.option_context('mode.use_inf_as_na', True):\n"
     ]
    },
    {
     "data": {
      "image/png": "[encoded data removed]",
      "text/plain": [
       "<Figure size 900x600 with 1 Axes>"
      ]
     },
     "metadata": {},
     "output_type": "display_data"
    }
   ],
   "source": [
    "# Plot the histogram of review lengths.\n",
    "\n",
    "fig, ax = plt.subplots(figsize=(9, 6))\n",
    "\n",
    "# First layer for grid visibility, white bars with no edges\n",
    "sns.histplot(data=all_review_lengths, bins=30, color='white', alpha=1, shrink=0.9, edgecolor='none')\n",
    "# Second layer for actual data visibility, slightly transparent, with no edges\n",
    "sns.histplot(data=all_review_lengths, bins=30, alpha=0.6, shrink=0.9, edgecolor='none')\n",
    "ax.set_axisbelow(True)\n",
    "ax.grid(axis='y', alpha=0.7)\n",
    "\n",
    "plt.title(\"Histogram of review lengths\", x=0.1, weight='bold', fontsize=11)\n",
    "plt.xlabel(\"review length (words)\")\n",
    "plt.ylabel(\"count\")\n",
    "\n",
    "# Remove top and right axis lines\n",
    "ax.spines['top'].set_visible(False)\n",
    "ax.spines['right'].set_visible(False)\n",
    "ax.spines['left']. set_visible(False)  # Disabling the left spine\n",
    "ax.spines['bottom']. set_visible(False)  # Disabling the bottom spine\n",
    "ax.tick_params(left=False) # Disable the ticks on the bottom and left axes\n",
    "\n",
    "# Add a horizontal line at y=0 to represent where the x-axis would be\n",
    "ax.axhline(y=0, color='gray', linewidth=1.5, alpha=0.5)  \n",
    "\n",
    "plt.show()\n"
   ]
  },
  {
   "cell_type": "markdown",
   "metadata": {},
   "source": [
    "#### (vii) Tokenization"
   ]
  },
  {
   "cell_type": "code",
   "execution_count": 244,
   "metadata": {},
   "outputs": [],
   "source": [
    "# To represent each text (= data point), there are many ways. In NLP/Deep Learning terminology, this task is called tokenization. It is common to represent text using popularity/ rank of words in text. The most common word in the text will be represented as 1, the second most common word will be represented as 2, etc. Tokenize each text document using this method.\n",
    "# Per footnote 2: \"Keras has an API called Tokenizer. It can yield bag of words, one-hot encoded features, etc.\"\n",
    "\n",
    "# Initialize tokenizer\n",
    "# Set a specific num_words (vocabulary size)\n",
    "tokenizer = Tokenizer(num_words=5000, oov_token=\"<OOV>\")\n",
    "\n",
    "# Fit the tokenizer on the texts\n",
    "all_texts = pd.concat([positive_df['text'], negative_df['text']])\n",
    "tokenizer.fit_on_texts(all_texts)\n",
    "\n",
    "# Transform texts into sequences\n",
    "positive_df['sequences'] = tokenizer.texts_to_sequences(positive_df['text'])\n",
    "negative_df['sequences'] = tokenizer.texts_to_sequences(negative_df['text'])"
   ]
  },
  {
   "cell_type": "code",
   "execution_count": 245,
   "metadata": {},
   "outputs": [
    {
     "data": {
      "text/html": [
       "<div>\n",
       "<style scoped>\n",
       "    .dataframe tbody tr th:only-of-type {\n",
       "        vertical-align: middle;\n",
       "    }\n",
       "\n",
       "    .dataframe tbody tr th {\n",
       "        vertical-align: top;\n",
       "    }\n",
       "\n",
       "    .dataframe thead th {\n",
       "        text-align: right;\n",
       "    }\n",
       "</style>\n",
       "<table border=\"1\" class=\"dataframe\">\n",
       "  <thead>\n",
       "    <tr style=\"text-align: right;\">\n",
       "      <th></th>\n",
       "      <th>title</th>\n",
       "      <th>text</th>\n",
       "      <th>sentiment</th>\n",
       "      <th>review_length</th>\n",
       "      <th>sequences</th>\n",
       "    </tr>\n",
       "    <tr>\n",
       "      <th>id</th>\n",
       "      <th></th>\n",
       "      <th></th>\n",
       "      <th></th>\n",
       "      <th></th>\n",
       "      <th></th>\n",
       "    </tr>\n",
       "  </thead>\n",
       "  <tbody>\n",
       "    <tr>\n",
       "      <th>0</th>\n",
       "      <td>cv000_29590</td>\n",
       "      <td>films adapted from comic books have had plenty...</td>\n",
       "      <td>1</td>\n",
       "      <td>679</td>\n",
       "      <td>[68, 2746, 30, 356, 1635, 33, 91, 1048, 5, 628...</td>\n",
       "    </tr>\n",
       "    <tr>\n",
       "      <th>1</th>\n",
       "      <td>cv001_18431</td>\n",
       "      <td>every now and then a movie comes along from a ...</td>\n",
       "      <td>1</td>\n",
       "      <td>650</td>\n",
       "      <td>[151, 145, 4, 103, 3, 28, 200, 265, 30, 3, 151...</td>\n",
       "    </tr>\n",
       "    <tr>\n",
       "      <th>2</th>\n",
       "      <td>cv002_15918</td>\n",
       "      <td>youve got mail works alot better than it deser...</td>\n",
       "      <td>1</td>\n",
       "      <td>416</td>\n",
       "      <td>[730, 288, 3643, 380, 1, 154, 59, 10, 1214, 6,...</td>\n",
       "    </tr>\n",
       "    <tr>\n",
       "      <th>3</th>\n",
       "      <td>cv003_11664</td>\n",
       "      <td>jaws is a rare film that grabs your attention ...</td>\n",
       "      <td>1</td>\n",
       "      <td>997</td>\n",
       "      <td>[3245, 7, 3, 1401, 16, 9, 1, 172, 560, 143, 10...</td>\n",
       "    </tr>\n",
       "    <tr>\n",
       "      <th>4</th>\n",
       "      <td>cv004_11636</td>\n",
       "      <td>moviemaking is a lot like being the general ma...</td>\n",
       "      <td>1</td>\n",
       "      <td>644</td>\n",
       "      <td>[4790, 7, 3, 212, 40, 110, 2, 835, 3096, 5, 25...</td>\n",
       "    </tr>\n",
       "  </tbody>\n",
       "</table>\n",
       "</div>"
      ],
      "text/plain": [
       "          title                                               text  sentiment  \\\n",
       "id                                                                              \n",
       "0   cv000_29590  films adapted from comic books have had plenty...          1   \n",
       "1   cv001_18431  every now and then a movie comes along from a ...          1   \n",
       "2   cv002_15918  youve got mail works alot better than it deser...          1   \n",
       "3   cv003_11664  jaws is a rare film that grabs your attention ...          1   \n",
       "4   cv004_11636  moviemaking is a lot like being the general ma...          1   \n",
       "\n",
       "    review_length                                          sequences  \n",
       "id                                                                    \n",
       "0             679  [68, 2746, 30, 356, 1635, 33, 91, 1048, 5, 628...  \n",
       "1             650  [151, 145, 4, 103, 3, 28, 200, 265, 30, 3, 151...  \n",
       "2             416  [730, 288, 3643, 380, 1, 154, 59, 10, 1214, 6,...  \n",
       "3             997  [3245, 7, 3, 1401, 16, 9, 1, 172, 560, 143, 10...  \n",
       "4             644  [4790, 7, 3, 212, 40, 110, 2, 835, 3096, 5, 25...  "
      ]
     },
     "execution_count": 245,
     "metadata": {},
     "output_type": "execute_result"
    }
   ],
   "source": [
    "positive_df.head()"
   ]
  },
  {
   "cell_type": "code",
   "execution_count": 246,
   "metadata": {},
   "outputs": [
    {
     "data": {
      "text/html": [
       "<div>\n",
       "<style scoped>\n",
       "    .dataframe tbody tr th:only-of-type {\n",
       "        vertical-align: middle;\n",
       "    }\n",
       "\n",
       "    .dataframe tbody tr th {\n",
       "        vertical-align: top;\n",
       "    }\n",
       "\n",
       "    .dataframe thead th {\n",
       "        text-align: right;\n",
       "    }\n",
       "</style>\n",
       "<table border=\"1\" class=\"dataframe\">\n",
       "  <thead>\n",
       "    <tr style=\"text-align: right;\">\n",
       "      <th></th>\n",
       "      <th>title</th>\n",
       "      <th>text</th>\n",
       "      <th>sentiment</th>\n",
       "      <th>review_length</th>\n",
       "      <th>sequences</th>\n",
       "    </tr>\n",
       "    <tr>\n",
       "      <th>id</th>\n",
       "      <th></th>\n",
       "      <th></th>\n",
       "      <th></th>\n",
       "      <th></th>\n",
       "      <th></th>\n",
       "    </tr>\n",
       "  </thead>\n",
       "  <tbody>\n",
       "    <tr>\n",
       "      <th>0</th>\n",
       "      <td>cv000_29416</td>\n",
       "      <td>plot two teen couples go to a church party dri...</td>\n",
       "      <td>0</td>\n",
       "      <td>688</td>\n",
       "      <td>[99, 80, 1084, 3705, 130, 6, 3, 1978, 784, 370...</td>\n",
       "    </tr>\n",
       "    <tr>\n",
       "      <th>1</th>\n",
       "      <td>cv001_19502</td>\n",
       "      <td>the happy bastards quick movie review damn tha...</td>\n",
       "      <td>0</td>\n",
       "      <td>240</td>\n",
       "      <td>[2, 675, 1, 1059, 28, 456, 1534, 9, 1, 2961, 2...</td>\n",
       "    </tr>\n",
       "    <tr>\n",
       "      <th>2</th>\n",
       "      <td>cv002_17424</td>\n",
       "      <td>it is movies like these that make a jaded movi...</td>\n",
       "      <td>0</td>\n",
       "      <td>483</td>\n",
       "      <td>[10, 7, 102, 40, 111, 9, 87, 3, 1, 28, 716, 1,...</td>\n",
       "    </tr>\n",
       "    <tr>\n",
       "      <th>3</th>\n",
       "      <td>cv003_12683</td>\n",
       "      <td>quest for camelot is warner bros first feature...</td>\n",
       "      <td>0</td>\n",
       "      <td>462</td>\n",
       "      <td>[1907, 13, 1, 7, 2801, 4759, 81, 1, 1, 507, 6,...</td>\n",
       "    </tr>\n",
       "    <tr>\n",
       "      <th>4</th>\n",
       "      <td>cv004_12641</td>\n",
       "      <td>synopsis a mentally unstable man undergoing ps...</td>\n",
       "      <td>0</td>\n",
       "      <td>718</td>\n",
       "      <td>[1976, 3, 3493, 1, 116, 1, 1, 2946, 3, 413, 30...</td>\n",
       "    </tr>\n",
       "  </tbody>\n",
       "</table>\n",
       "</div>"
      ],
      "text/plain": [
       "          title                                               text  sentiment  \\\n",
       "id                                                                              \n",
       "0   cv000_29416  plot two teen couples go to a church party dri...          0   \n",
       "1   cv001_19502  the happy bastards quick movie review damn tha...          0   \n",
       "2   cv002_17424  it is movies like these that make a jaded movi...          0   \n",
       "3   cv003_12683  quest for camelot is warner bros first feature...          0   \n",
       "4   cv004_12641  synopsis a mentally unstable man undergoing ps...          0   \n",
       "\n",
       "    review_length                                          sequences  \n",
       "id                                                                    \n",
       "0             688  [99, 80, 1084, 3705, 130, 6, 3, 1978, 784, 370...  \n",
       "1             240  [2, 675, 1, 1059, 28, 456, 1534, 9, 1, 2961, 2...  \n",
       "2             483  [10, 7, 102, 40, 111, 9, 87, 3, 1, 28, 716, 1,...  \n",
       "3             462  [1907, 13, 1, 7, 2801, 4759, 81, 1, 1, 507, 6,...  \n",
       "4             718  [1976, 3, 3493, 1, 116, 1, 1, 2946, 3, 413, 30...  "
      ]
     },
     "execution_count": 246,
     "metadata": {},
     "output_type": "execute_result"
    }
   ],
   "source": [
    "negative_df.head()"
   ]
  },
  {
   "cell_type": "markdown",
   "metadata": {},
   "source": [
    "#### (viii) Review Length Threshold"
   ]
  },
  {
   "cell_type": "code",
   "execution_count": 247,
   "metadata": {},
   "outputs": [
    {
     "name": "stdout",
     "output_type": "stream",
     "text": [
      "70th percentile of review lengths: 737\n"
     ]
    }
   ],
   "source": [
    "# Select a review length L that 70% of the reviews have a length below it. If you feel more adventurous, set the threshold to 90%.\n",
    "\n",
    "# Calculate the 70th percentile of review lengths\n",
    "L = int(all_review_lengths.quantile(0.7))\n",
    "print(\"70th percentile of review lengths:\", L)"
   ]
  },
  {
   "cell_type": "markdown",
   "metadata": {},
   "source": [
    "#### (ix) Zero-pad Review Length"
   ]
  },
  {
   "cell_type": "code",
   "execution_count": 248,
   "metadata": {},
   "outputs": [],
   "source": [
    "# Truncate reviews longer than L words and zero-pad reviews shorter than L so that all texts (= data points) are of length L.\n",
    "# Per footnote 3: \"Keras has pad sequences for doing this.\"\n",
    "\n",
    "# Pad and truncate sequences\n",
    "positive_padded = pad_sequences(positive_df['sequences'], maxlen=L, truncating='post', padding='post')\n",
    "negative_padded = pad_sequences(negative_df['sequences'], maxlen=L, truncating='post', padding='post')\n",
    "\n",
    "# Update DataFrames with padded sequences\n",
    "positive_df['padded_sequences'] = list(positive_padded)\n",
    "negative_df['padded_sequences'] = list(negative_padded)"
   ]
  },
  {
   "cell_type": "code",
   "execution_count": 249,
   "metadata": {},
   "outputs": [
    {
     "name": "stdout",
     "output_type": "stream",
     "text": [
      "737\n",
      "737\n",
      "737\n",
      "737\n"
     ]
    }
   ],
   "source": [
    "# Check max and min review lengths after padding and truncating\n",
    "print(positive_df['padded_sequences'].apply(len).max())\n",
    "print(negative_df['padded_sequences'].apply(len).max())\n",
    "print(positive_df['padded_sequences'].apply(len).min())\n",
    "print(negative_df['padded_sequences'].apply(len).min())\n"
   ]
  },
  {
   "cell_type": "markdown",
   "metadata": {},
   "source": [
    "### (c) Word Embeddings"
   ]
  },
  {
   "cell_type": "markdown",
   "metadata": {},
   "source": [
    "#### (i) Generate Word Embeddings"
   ]
  },
  {
   "cell_type": "code",
   "execution_count": 250,
   "metadata": {},
   "outputs": [],
   "source": [
    "# One can use tokenized text as inputs to a deep neural network. However, a recent breakthrough in NLP suggests that more sophisticated representations of text yield better results. These sophisticated representations are called word embeddings. “Word embedding is a term used for representation of words for text analysis, typically in the form of a real-valued vector that encodes the meaning of the word such that the words that are closer in the vector space are expected to be similar in meaning.” Most deep learning modules (including Keras) provide a convenient way to convert positive integer representations of words into a word embedding by an “Embedding layer.” The layer accepts arguments that define the mapping of words into embeddings, including the maximum number of expected words also called the vocabulary size (e.g. the largest integer value). The layer also allows you to specify the dimension for each word vector, called the “output dimension.” We would like to use a word embedding layer for this project. Assume that we are interested in the top 5,000 words. This means that in each integer sequence that represents each document, we set to zero those integers that represent words that are not among the top 5,000 words in the document. If you feel more adventurous, use all the words that appear in this corpus. Choose the length of the embedding vector for each word to be 32. Hence, each document is represented as a 32 × L matrix.\n",
    "# Per footnote 5: \"This is done by setting an argument in the embedding layer provided by Keras. Example: model.add(Embedding(top words, 32, input length=max words)), where top words=5,000 and max words=L.\"\n",
    "\n",
    "# Define the model\n",
    "embedding_model = Sequential()\n",
    "\n",
    "# Add an Embedding layer\n",
    "# 'L' is the length calculated previously and should be used as the input length for each sequence\n",
    "# Vocabulary size is 5000, and each word is represented as a 32-dimensional vector\n",
    "embedding_model.add(Embedding(input_dim=5000, output_dim=32, input_length=L))\n"
   ]
  },
  {
   "cell_type": "markdown",
   "metadata": {},
   "source": [
    "#### (ii) Flatten the Matrix"
   ]
  },
  {
   "cell_type": "code",
   "execution_count": 251,
   "metadata": {},
   "outputs": [
    {
     "name": "stdout",
     "output_type": "stream",
     "text": [
      "32/32 [==============================] - 0s 387us/step\n",
      "32/32 [==============================] - 0s 408us/step\n"
     ]
    }
   ],
   "source": [
    "# Flatten the matrix of each document to a vector.\n",
    "\n",
    "embedding_model.add(Flatten()) # Flatten the embeddings to use them as features for MLP\n",
    "\n",
    "# Convert sequences to numpy arrays\n",
    "positive_sequences = np.array(positive_df['padded_sequences'].tolist())\n",
    "negative_sequences = np.array(negative_df['padded_sequences'].tolist())\n",
    "\n",
    "# Generate embeddings\n",
    "positive_embeddings = embedding_model.predict(positive_sequences)\n",
    "negative_embeddings = embedding_model.predict(negative_sequences)\n",
    "\n",
    "# Convert array to list for DataFrame storage\n",
    "positive_df['document_embeddings'] = positive_embeddings.tolist()\n",
    "negative_df['document_embeddings'] = negative_embeddings.tolist()\n"
   ]
  },
  {
   "cell_type": "code",
   "execution_count": 252,
   "metadata": {},
   "outputs": [
    {
     "data": {
      "text/html": [
       "<div>\n",
       "<style scoped>\n",
       "    .dataframe tbody tr th:only-of-type {\n",
       "        vertical-align: middle;\n",
       "    }\n",
       "\n",
       "    .dataframe tbody tr th {\n",
       "        vertical-align: top;\n",
       "    }\n",
       "\n",
       "    .dataframe thead th {\n",
       "        text-align: right;\n",
       "    }\n",
       "</style>\n",
       "<table border=\"1\" class=\"dataframe\">\n",
       "  <thead>\n",
       "    <tr style=\"text-align: right;\">\n",
       "      <th></th>\n",
       "      <th>title</th>\n",
       "      <th>text</th>\n",
       "      <th>sentiment</th>\n",
       "      <th>review_length</th>\n",
       "      <th>sequences</th>\n",
       "      <th>padded_sequences</th>\n",
       "      <th>document_embeddings</th>\n",
       "    </tr>\n",
       "    <tr>\n",
       "      <th>id</th>\n",
       "      <th></th>\n",
       "      <th></th>\n",
       "      <th></th>\n",
       "      <th></th>\n",
       "      <th></th>\n",
       "      <th></th>\n",
       "      <th></th>\n",
       "    </tr>\n",
       "  </thead>\n",
       "  <tbody>\n",
       "    <tr>\n",
       "      <th>0</th>\n",
       "      <td>cv000_29590</td>\n",
       "      <td>films adapted from comic books have had plenty...</td>\n",
       "      <td>1</td>\n",
       "      <td>679</td>\n",
       "      <td>[68, 2746, 30, 356, 1635, 33, 91, 1048, 5, 628...</td>\n",
       "      <td>[68, 2746, 30, 356, 1635, 33, 91, 1048, 5, 628...</td>\n",
       "      <td>[-0.010623611509799957, -0.012660693377256393,...</td>\n",
       "    </tr>\n",
       "    <tr>\n",
       "      <th>1</th>\n",
       "      <td>cv001_18431</td>\n",
       "      <td>every now and then a movie comes along from a ...</td>\n",
       "      <td>1</td>\n",
       "      <td>650</td>\n",
       "      <td>[151, 145, 4, 103, 3, 28, 200, 265, 30, 3, 151...</td>\n",
       "      <td>[151, 145, 4, 103, 3, 28, 200, 265, 30, 3, 151...</td>\n",
       "      <td>[-0.013288009911775589, -0.006615780293941498,...</td>\n",
       "    </tr>\n",
       "    <tr>\n",
       "      <th>2</th>\n",
       "      <td>cv002_15918</td>\n",
       "      <td>youve got mail works alot better than it deser...</td>\n",
       "      <td>1</td>\n",
       "      <td>416</td>\n",
       "      <td>[730, 288, 3643, 380, 1, 154, 59, 10, 1214, 6,...</td>\n",
       "      <td>[730, 288, 3643, 380, 1, 154, 59, 10, 1214, 6,...</td>\n",
       "      <td>[-0.0462319515645504, -0.03171362727880478, 0....</td>\n",
       "    </tr>\n",
       "    <tr>\n",
       "      <th>3</th>\n",
       "      <td>cv003_11664</td>\n",
       "      <td>jaws is a rare film that grabs your attention ...</td>\n",
       "      <td>1</td>\n",
       "      <td>997</td>\n",
       "      <td>[3245, 7, 3, 1401, 16, 9, 1, 172, 560, 143, 10...</td>\n",
       "      <td>[3245, 7, 3, 1401, 16, 9, 1, 172, 560, 143, 10...</td>\n",
       "      <td>[-0.042613543570041656, -0.014202654361724854,...</td>\n",
       "    </tr>\n",
       "    <tr>\n",
       "      <th>4</th>\n",
       "      <td>cv004_11636</td>\n",
       "      <td>moviemaking is a lot like being the general ma...</td>\n",
       "      <td>1</td>\n",
       "      <td>644</td>\n",
       "      <td>[4790, 7, 3, 212, 40, 110, 2, 835, 3096, 5, 25...</td>\n",
       "      <td>[4790, 7, 3, 212, 40, 110, 2, 835, 3096, 5, 25...</td>\n",
       "      <td>[-0.03362365812063217, -0.0067601799964904785,...</td>\n",
       "    </tr>\n",
       "  </tbody>\n",
       "</table>\n",
       "</div>"
      ],
      "text/plain": [
       "          title                                               text  sentiment  \\\n",
       "id                                                                              \n",
       "0   cv000_29590  films adapted from comic books have had plenty...          1   \n",
       "1   cv001_18431  every now and then a movie comes along from a ...          1   \n",
       "2   cv002_15918  youve got mail works alot better than it deser...          1   \n",
       "3   cv003_11664  jaws is a rare film that grabs your attention ...          1   \n",
       "4   cv004_11636  moviemaking is a lot like being the general ma...          1   \n",
       "\n",
       "    review_length                                          sequences  \\\n",
       "id                                                                     \n",
       "0             679  [68, 2746, 30, 356, 1635, 33, 91, 1048, 5, 628...   \n",
       "1             650  [151, 145, 4, 103, 3, 28, 200, 265, 30, 3, 151...   \n",
       "2             416  [730, 288, 3643, 380, 1, 154, 59, 10, 1214, 6,...   \n",
       "3             997  [3245, 7, 3, 1401, 16, 9, 1, 172, 560, 143, 10...   \n",
       "4             644  [4790, 7, 3, 212, 40, 110, 2, 835, 3096, 5, 25...   \n",
       "\n",
       "                                     padded_sequences  \\\n",
       "id                                                      \n",
       "0   [68, 2746, 30, 356, 1635, 33, 91, 1048, 5, 628...   \n",
       "1   [151, 145, 4, 103, 3, 28, 200, 265, 30, 3, 151...   \n",
       "2   [730, 288, 3643, 380, 1, 154, 59, 10, 1214, 6,...   \n",
       "3   [3245, 7, 3, 1401, 16, 9, 1, 172, 560, 143, 10...   \n",
       "4   [4790, 7, 3, 212, 40, 110, 2, 835, 3096, 5, 25...   \n",
       "\n",
       "                                  document_embeddings  \n",
       "id                                                     \n",
       "0   [-0.010623611509799957, -0.012660693377256393,...  \n",
       "1   [-0.013288009911775589, -0.006615780293941498,...  \n",
       "2   [-0.0462319515645504, -0.03171362727880478, 0....  \n",
       "3   [-0.042613543570041656, -0.014202654361724854,...  \n",
       "4   [-0.03362365812063217, -0.0067601799964904785,...  "
      ]
     },
     "execution_count": 252,
     "metadata": {},
     "output_type": "execute_result"
    }
   ],
   "source": [
    "positive_df.head()"
   ]
  },
  {
   "cell_type": "code",
   "execution_count": 253,
   "metadata": {},
   "outputs": [
    {
     "data": {
      "text/html": [
       "<div>\n",
       "<style scoped>\n",
       "    .dataframe tbody tr th:only-of-type {\n",
       "        vertical-align: middle;\n",
       "    }\n",
       "\n",
       "    .dataframe tbody tr th {\n",
       "        vertical-align: top;\n",
       "    }\n",
       "\n",
       "    .dataframe thead th {\n",
       "        text-align: right;\n",
       "    }\n",
       "</style>\n",
       "<table border=\"1\" class=\"dataframe\">\n",
       "  <thead>\n",
       "    <tr style=\"text-align: right;\">\n",
       "      <th></th>\n",
       "      <th>title</th>\n",
       "      <th>text</th>\n",
       "      <th>sentiment</th>\n",
       "      <th>review_length</th>\n",
       "      <th>sequences</th>\n",
       "      <th>padded_sequences</th>\n",
       "      <th>document_embeddings</th>\n",
       "    </tr>\n",
       "    <tr>\n",
       "      <th>id</th>\n",
       "      <th></th>\n",
       "      <th></th>\n",
       "      <th></th>\n",
       "      <th></th>\n",
       "      <th></th>\n",
       "      <th></th>\n",
       "      <th></th>\n",
       "    </tr>\n",
       "  </thead>\n",
       "  <tbody>\n",
       "    <tr>\n",
       "      <th>0</th>\n",
       "      <td>cv000_29416</td>\n",
       "      <td>plot two teen couples go to a church party dri...</td>\n",
       "      <td>0</td>\n",
       "      <td>688</td>\n",
       "      <td>[99, 80, 1084, 3705, 130, 6, 3, 1978, 784, 370...</td>\n",
       "      <td>[99, 80, 1084, 3705, 130, 6, 3, 1978, 784, 370...</td>\n",
       "      <td>[-0.012285567820072174, 0.010243821889162064, ...</td>\n",
       "    </tr>\n",
       "    <tr>\n",
       "      <th>1</th>\n",
       "      <td>cv001_19502</td>\n",
       "      <td>the happy bastards quick movie review damn tha...</td>\n",
       "      <td>0</td>\n",
       "      <td>240</td>\n",
       "      <td>[2, 675, 1, 1059, 28, 456, 1534, 9, 1, 2961, 2...</td>\n",
       "      <td>[2, 675, 1, 1059, 28, 456, 1534, 9, 1, 2961, 2...</td>\n",
       "      <td>[-0.037728048861026764, -0.025620747357606888,...</td>\n",
       "    </tr>\n",
       "    <tr>\n",
       "      <th>2</th>\n",
       "      <td>cv002_17424</td>\n",
       "      <td>it is movies like these that make a jaded movi...</td>\n",
       "      <td>0</td>\n",
       "      <td>483</td>\n",
       "      <td>[10, 7, 102, 40, 111, 9, 87, 3, 1, 28, 716, 1,...</td>\n",
       "      <td>[10, 7, 102, 40, 111, 9, 87, 3, 1, 28, 716, 1,...</td>\n",
       "      <td>[0.025285754352808, 0.026400569826364517, -0.0...</td>\n",
       "    </tr>\n",
       "    <tr>\n",
       "      <th>3</th>\n",
       "      <td>cv003_12683</td>\n",
       "      <td>quest for camelot is warner bros first feature...</td>\n",
       "      <td>0</td>\n",
       "      <td>462</td>\n",
       "      <td>[1907, 13, 1, 7, 2801, 4759, 81, 1, 1, 507, 6,...</td>\n",
       "      <td>[1907, 13, 1, 7, 2801, 4759, 81, 1, 1, 507, 6,...</td>\n",
       "      <td>[0.006593666970729828, -0.011522747576236725, ...</td>\n",
       "    </tr>\n",
       "    <tr>\n",
       "      <th>4</th>\n",
       "      <td>cv004_12641</td>\n",
       "      <td>synopsis a mentally unstable man undergoing ps...</td>\n",
       "      <td>0</td>\n",
       "      <td>718</td>\n",
       "      <td>[1976, 3, 3493, 1, 116, 1, 1, 2946, 3, 413, 30...</td>\n",
       "      <td>[1976, 3, 3493, 1, 116, 1, 1, 2946, 3, 413, 30...</td>\n",
       "      <td>[-0.021586382761597633, -0.045250263065099716,...</td>\n",
       "    </tr>\n",
       "  </tbody>\n",
       "</table>\n",
       "</div>"
      ],
      "text/plain": [
       "          title                                               text  sentiment  \\\n",
       "id                                                                              \n",
       "0   cv000_29416  plot two teen couples go to a church party dri...          0   \n",
       "1   cv001_19502  the happy bastards quick movie review damn tha...          0   \n",
       "2   cv002_17424  it is movies like these that make a jaded movi...          0   \n",
       "3   cv003_12683  quest for camelot is warner bros first feature...          0   \n",
       "4   cv004_12641  synopsis a mentally unstable man undergoing ps...          0   \n",
       "\n",
       "    review_length                                          sequences  \\\n",
       "id                                                                     \n",
       "0             688  [99, 80, 1084, 3705, 130, 6, 3, 1978, 784, 370...   \n",
       "1             240  [2, 675, 1, 1059, 28, 456, 1534, 9, 1, 2961, 2...   \n",
       "2             483  [10, 7, 102, 40, 111, 9, 87, 3, 1, 28, 716, 1,...   \n",
       "3             462  [1907, 13, 1, 7, 2801, 4759, 81, 1, 1, 507, 6,...   \n",
       "4             718  [1976, 3, 3493, 1, 116, 1, 1, 2946, 3, 413, 30...   \n",
       "\n",
       "                                     padded_sequences  \\\n",
       "id                                                      \n",
       "0   [99, 80, 1084, 3705, 130, 6, 3, 1978, 784, 370...   \n",
       "1   [2, 675, 1, 1059, 28, 456, 1534, 9, 1, 2961, 2...   \n",
       "2   [10, 7, 102, 40, 111, 9, 87, 3, 1, 28, 716, 1,...   \n",
       "3   [1907, 13, 1, 7, 2801, 4759, 81, 1, 1, 507, 6,...   \n",
       "4   [1976, 3, 3493, 1, 116, 1, 1, 2946, 3, 413, 30...   \n",
       "\n",
       "                                  document_embeddings  \n",
       "id                                                     \n",
       "0   [-0.012285567820072174, 0.010243821889162064, ...  \n",
       "1   [-0.037728048861026764, -0.025620747357606888,...  \n",
       "2   [0.025285754352808, 0.026400569826364517, -0.0...  \n",
       "3   [0.006593666970729828, -0.011522747576236725, ...  \n",
       "4   [-0.021586382761597633, -0.045250263065099716,...  "
      ]
     },
     "execution_count": 253,
     "metadata": {},
     "output_type": "execute_result"
    }
   ],
   "source": [
    "negative_df.head()"
   ]
  },
  {
   "cell_type": "markdown",
   "metadata": {},
   "source": [
    "### (d) Multi-Layer Perceptron"
   ]
  },
  {
   "cell_type": "markdown",
   "metadata": {},
   "source": [
    "#### (i) Train a MLP"
   ]
  },
  {
   "cell_type": "code",
   "execution_count": 27,
   "metadata": {},
   "outputs": [],
   "source": [
    "# Train a MLP with three (dense) hidden layers each of which has 50 ReLUs and one output layer with a single sigmoid neuron. Use a dropout rate of 20% for the first layer and 50% for the other layers. Use ADAM optimizer and binary cross entropy loss (which is equivalent to having a softmax in the output). To avoid overfitting, just set the number of epochs as 2. Use a batch size of 10."
   ]
  },
  {
   "cell_type": "markdown",
   "metadata": {},
   "source": [
    "#### (ii) Train and Test Accuracies"
   ]
  },
  {
   "cell_type": "code",
   "execution_count": 28,
   "metadata": {},
   "outputs": [],
   "source": [
    "# Report the train and test accuracies of this model."
   ]
  },
  {
   "cell_type": "markdown",
   "metadata": {},
   "source": [
    "### (e) One-Dimensional Convolutional Neural Network"
   ]
  },
  {
   "cell_type": "markdown",
   "metadata": {},
   "source": [
    "Although CNNs are mainly used for image data, they can also be applied to text data, as text also has adjacency information. Keras supports one-dimensional convolutions and pooling by the Conv1D and MaxPooling1D classes respectively."
   ]
  },
  {
   "cell_type": "markdown",
   "metadata": {},
   "source": [
    "#### (i) Insert a Conv1D Layer"
   ]
  },
  {
   "cell_type": "code",
   "execution_count": 29,
   "metadata": {},
   "outputs": [],
   "source": [
    "# After the embedding layer, insert a Conv1D layer. This convolutional layer has 32 feature maps , and each of the 32 kernels has size 3, i.e. reads embedded word representations 3 vector elements of the word embedding at a time. The convolutional layer is followed by a 1D max pooling layer with a length and stride of 2 that halves the size of the feature maps from the convolutional layer. The rest of the network is the same as the neural network above."
   ]
  },
  {
   "cell_type": "markdown",
   "metadata": {},
   "source": [
    "#### (ii) Train and Test Accuracies"
   ]
  },
  {
   "cell_type": "code",
   "execution_count": 30,
   "metadata": {},
   "outputs": [],
   "source": [
    "# Report the train and test accuracies of this model."
   ]
  },
  {
   "cell_type": "markdown",
   "metadata": {},
   "source": [
    "### (f) Long Short-Term Memory Recurrent Neural Network "
   ]
  },
  {
   "cell_type": "markdown",
   "metadata": {},
   "source": [
    "The structure of the LSTM we are going to use is shown in the following figure.\n",
    "\n",
    "![](LSTM_structure.png)"
   ]
  },
  {
   "cell_type": "markdown",
   "metadata": {},
   "source": [
    "#### (i) Train the Model"
   ]
  },
  {
   "cell_type": "code",
   "execution_count": 31,
   "metadata": {},
   "outputs": [],
   "source": [
    "# Each word is represented to LSTM as a vector of 32 elements and the LSTM is followed by a dense layer of 256 ReLUs. Use a dropout rate of 0.2 for both LSTM and the dense layer. Train the model using 10-50 epochs and batch size of 10."
   ]
  },
  {
   "cell_type": "markdown",
   "metadata": {},
   "source": [
    "#### (ii) Train and Test Accuracies"
   ]
  },
  {
   "cell_type": "code",
   "execution_count": 32,
   "metadata": {},
   "outputs": [],
   "source": [
    "# Report the train and test accuracies of this model."
   ]
  },
  {
   "cell_type": "markdown",
   "metadata": {},
   "source": [
    "## References and Citations\n",
    "\n",
    "- https://www.kaggle.com/code/alexisbcook/distributions"
   ]
  }
 ],
 "metadata": {
  "kernelspec": {
   "display_name": "Python 3",
   "language": "python",
   "name": "python3"
  },
  "language_info": {
   "codemirror_mode": {
    "name": "ipython",
    "version": 3
   },
   "file_extension": ".py",
   "mimetype": "text/x-python",
   "name": "python",
   "nbconvert_exporter": "python",
   "pygments_lexer": "ipython3",
   "version": "3.9.18"
  },
  "orig_nbformat": 4,
  "vscode": {
   "interpreter": {
    "hash": "3c20c2d94d2527936fe0f3a300eb11db30fed84423423838e2f93b74eb7aaebc"
   }
  }
 },
 "nbformat": 4,
 "nbformat_minor": 2
}
